{
 "cells": [
  {
   "cell_type": "markdown",
   "id": "ce94d809-27aa-4f29-90fc-2436494ead50",
   "metadata": {},
   "source": [
    "# Fix for: 'UsageError: Cell magic `%%sm_sql` not found.'"
   ]
  },
  {
   "cell_type": "code",
   "execution_count": 1,
   "id": "926cb4a8-c429-49ab-b730-0a125739510f",
   "metadata": {
    "execution": {
     "iopub.execute_input": "2025-08-15T00:21:01.611631Z",
     "iopub.status.busy": "2025-08-15T00:21:01.610986Z",
     "iopub.status.idle": "2025-08-15T00:21:01.627397Z",
     "shell.execute_reply": "2025-08-15T00:21:01.622024Z",
     "shell.execute_reply.started": "2025-08-15T00:21:01.611600Z"
    }
   },
   "outputs": [
    {
     "name": "stderr",
     "output_type": "stream",
     "text": [
      "UsageError: Cell magic `%%sm_sql` not found.\n"
     ]
    }
   ],
   "source": [
    "%%sm_sql --connection-properties '{\"connection_type\": \"ATHENA\", \"s3_staging_dir\": \"s3://<your-s3-bucket>/athena-results/\"}'\n",
    "SELECT * FROM <your-database-name>.<your-table-name> LIMIT 5"
   ]
  },
  {
   "cell_type": "code",
   "execution_count": 2,
   "id": "41bec871-1fc4-41a3-b4f7-7183aefce5fe",
   "metadata": {
    "execution": {
     "iopub.execute_input": "2025-08-15T00:21:02.833166Z",
     "iopub.status.busy": "2025-08-15T00:21:02.832477Z",
     "iopub.status.idle": "2025-08-15T00:21:05.059534Z",
     "shell.execute_reply": "2025-08-15T00:21:05.058720Z",
     "shell.execute_reply.started": "2025-08-15T00:21:02.833129Z"
    }
   },
   "outputs": [
    {
     "name": "stdout",
     "output_type": "stream",
     "text": [
      "Note: you may need to restart the kernel to use updated packages.\n"
     ]
    }
   ],
   "source": [
    "# Please ensure you have this package installed, and then restart the kernel (it should already be installed in the default SageMaker Kernels)\n",
    "%pip install -q amazon_sagemaker_sql_magic"
   ]
  },
  {
   "cell_type": "code",
   "execution_count": 3,
   "id": "cd91df69-e45e-417b-bd7e-a1f2c470c424",
   "metadata": {
    "execution": {
     "iopub.execute_input": "2025-08-15T00:21:06.301925Z",
     "iopub.status.busy": "2025-08-15T00:21:06.301408Z",
     "iopub.status.idle": "2025-08-15T00:21:07.495564Z",
     "shell.execute_reply": "2025-08-15T00:21:07.494762Z",
     "shell.execute_reply.started": "2025-08-15T00:21:06.301892Z"
    }
   },
   "outputs": [
    {
     "name": "stderr",
     "output_type": "stream",
     "text": [
      "/opt/conda/lib/python3.12/site-packages/snowflake/connector/options.py:104: UserWarning: You have an incompatible version of 'pyarrow' installed (19.0.1), please install a version that adheres to: 'pyarrow<19.0.0; extra == \"pandas\"'\n",
      "  warn_incompatible_dep(\n"
     ]
    }
   ],
   "source": [
    "%load_ext amazon_sagemaker_sql_magic"
   ]
  },
  {
   "cell_type": "code",
   "execution_count": 4,
   "id": "3ff4492b-5207-4709-a0be-5ac7f14ac731",
   "metadata": {
    "execution": {
     "iopub.execute_input": "2025-08-15T00:21:08.942062Z",
     "iopub.status.busy": "2025-08-15T00:21:08.941418Z",
     "iopub.status.idle": "2025-08-15T00:21:10.407384Z",
     "shell.execute_reply": "2025-08-15T00:21:10.406629Z",
     "shell.execute_reply.started": "2025-08-15T00:21:08.942035Z"
    }
   },
   "outputs": [
    {
     "data": {
      "text/html": [
       "<div>\n",
       "<style scoped>\n",
       "    .dataframe tbody tr th:only-of-type {\n",
       "        vertical-align: middle;\n",
       "    }\n",
       "\n",
       "    .dataframe tbody tr th {\n",
       "        vertical-align: top;\n",
       "    }\n",
       "\n",
       "    .dataframe thead th {\n",
       "        text-align: right;\n",
       "    }\n",
       "</style>\n",
       "<table border=\"1\" class=\"dataframe\">\n",
       "  <thead>\n",
       "    <tr style=\"text-align: right;\">\n",
       "      <th></th>\n",
       "      <th>team_name</th>\n",
       "      <th>year</th>\n",
       "      <th>wins</th>\n",
       "      <th>losses</th>\n",
       "    </tr>\n",
       "  </thead>\n",
       "  <tbody>\n",
       "    <tr>\n",
       "      <th>0</th>\n",
       "      <td>Boston Bruins</td>\n",
       "      <td>1990</td>\n",
       "      <td>44</td>\n",
       "      <td>24</td>\n",
       "    </tr>\n",
       "    <tr>\n",
       "      <th>1</th>\n",
       "      <td>Buffalo Sabres</td>\n",
       "      <td>1990</td>\n",
       "      <td>31</td>\n",
       "      <td>30</td>\n",
       "    </tr>\n",
       "    <tr>\n",
       "      <th>2</th>\n",
       "      <td>Calgary Flames</td>\n",
       "      <td>1990</td>\n",
       "      <td>46</td>\n",
       "      <td>26</td>\n",
       "    </tr>\n",
       "    <tr>\n",
       "      <th>3</th>\n",
       "      <td>Chicago Blackhawks</td>\n",
       "      <td>1990</td>\n",
       "      <td>49</td>\n",
       "      <td>23</td>\n",
       "    </tr>\n",
       "    <tr>\n",
       "      <th>4</th>\n",
       "      <td>Detroit Red Wings</td>\n",
       "      <td>1990</td>\n",
       "      <td>34</td>\n",
       "      <td>38</td>\n",
       "    </tr>\n",
       "  </tbody>\n",
       "</table>\n",
       "</div>"
      ],
      "text/plain": [
       "            team_name  year  wins  losses\n",
       "0       Boston Bruins  1990    44      24\n",
       "1      Buffalo Sabres  1990    31      30\n",
       "2      Calgary Flames  1990    46      26\n",
       "3  Chicago Blackhawks  1990    49      23\n",
       "4   Detroit Red Wings  1990    34      38"
      ]
     },
     "metadata": {},
     "output_type": "display_data"
    }
   ],
   "source": [
    "%%sm_sql --connection-properties '{\"connection_type\": \"ATHENA\", \"s3_staging_dir\": \"s3://<your-s3-bucket>/athena-results/\"}'\n",
    "SELECT * FROM <your-database-name>.<your-table-name> LIMIT 5"
   ]
  }
 ],
 "metadata": {
  "kernelspec": {
   "display_name": "Python 3 (ipykernel)",
   "language": "python",
   "name": "python3"
  },
  "language_info": {
   "codemirror_mode": {
    "name": "ipython",
    "version": 3
   },
   "file_extension": ".py",
   "mimetype": "text/x-python",
   "name": "python",
   "nbconvert_exporter": "python",
   "pygments_lexer": "ipython3",
   "version": "3.12.9"
  }
 },
 "nbformat": 4,
 "nbformat_minor": 5
}
